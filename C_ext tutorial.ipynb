{
 "metadata": {
  "language_info": {
   "codemirror_mode": {
    "name": "ipython",
    "version": 3
   },
   "file_extension": ".py",
   "mimetype": "text/x-python",
   "name": "python",
   "nbconvert_exporter": "python",
   "pygments_lexer": "ipython3",
   "version": 3
  },
  "orig_nbformat": 2
 },
 "nbformat": 4,
 "nbformat_minor": 2,
 "cells": [
  {
   "cell_type": "code",
   "execution_count": null,
   "metadata": {},
   "outputs": [],
   "source": [
    "from uos_statphys import C_ext"
   ]
  },
  {
   "cell_type": "code",
   "execution_count": null,
   "metadata": {},
   "outputs": [],
   "source": [
    "C_code = \"\"\"#include <stdio.h>\n",
    "#include <iostream>\n",
    "#include <vector>\n",
    "\n",
    "\n",
    "int add(int, int);\n",
    "void array_add(int*, int*, int*, int);\n",
    "void fibonacci_array(int*, int);\n",
    "\n",
    "//@extern_python\n",
    "\n",
    "using namespace std;\n",
    "\n",
    "// some c++ code\n",
    "\n",
    "//@python_def\n",
    "int add(int a, int b){\n",
    "    return a + b;\n",
    "}\n",
    "\n",
    "//@python_def\n",
    "void array_add(int* c, int* a, int* b, int n){\n",
    "    for (size_t i = 0; i < n; i++)\n",
    "    {\n",
    "        c[i] = a[i] +b[i] + 1;\n",
    "    }\n",
    "}\n",
    "\n",
    "//@python_def\n",
    "int dot_product(int* a, int* b, int n){\n",
    "    int sum = 0;\n",
    "    for (size_t i = 0; i < n; i++)\n",
    "    {\n",
    "        sum = sum +  a[i] * b[i];\n",
    "    }\n",
    "    return sum;\n",
    "}\n",
    "\n",
    "\n",
    "\n",
    "//@python_def\n",
    "//!Get n-th fibonacci series.\n",
    "void fibonacci_array(\n",
    "    int* result, \n",
    "    int n\n",
    "    ){\n",
    "    for (size_t i = 0; i < n; i++)\n",
    "    {\n",
    "        if (i>1){\n",
    "            result[i] = result[i-1]+result[i-2];\n",
    "        }\n",
    "        else{\n",
    "            result[i] = 1;\n",
    "        }\n",
    "    }\n",
    "}\n",
    "\"\"\"\n"
   ]
  }
 ]
}