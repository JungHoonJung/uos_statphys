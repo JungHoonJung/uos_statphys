{
 "metadata": {
  "language_info": {
   "codemirror_mode": {
    "name": "ipython",
    "version": 3
   },
   "file_extension": ".py",
   "mimetype": "text/x-python",
   "name": "python",
   "nbconvert_exporter": "python",
   "pygments_lexer": "ipython3",
   "version": "3.7.9-final"
  },
  "orig_nbformat": 2,
  "kernelspec": {
   "name": "python3",
   "display_name": "Python 3",
   "language": "python"
  }
 },
 "nbformat": 4,
 "nbformat_minor": 2,
 "cells": [
  {
   "source": [
    "# Simple C code mapping (extension) with ctypes "
   ],
   "cell_type": "markdown",
   "metadata": {}
  },
  {
   "source": [
    "## Introduction"
   ],
   "cell_type": "markdown",
   "metadata": {}
  },
  {
   "source": [
    "[Python](https://python.org)은 쉽고 간단한 인터프리터 언어로 현재 다양한 방면에서 널리 사용되고 있다.  \n",
    "하지만 잘 알려져있는 단점으로 pure python 코드가 바이트코드로 해석해 동작하기 때문에  \n",
    "특히, 반복문의 속도저하가 상당히 크게 작용한다.  \n",
    "\n",
    "다행히, Python에서는 이러한 문제를 해결하기 위해 많은 라이브러리들이 존재하고 그러한 라이브러리 내부에는  \n",
    "C언어로 작성된 코드들을 사용하는 형태로 속도 최적화를 이뤄낸다.  \n",
    "\n",
    "다만, 일반적이 유저들이 사용하기에 C 함수의 Python 매핑은 조금 까다로운 면이 있다.  \n",
    "파이썬에서는 [ctypes](https://docs.python.org/ko/3/library/ctypes.html)라는 내장 라이브러리를 제공하여 C 확장을 할 수 있도록 만들었다.  \n",
    "계산과학에서는 [Numpy](https://numpy.org)를 이용하여 많은 계산을 진행하고 있고,   \n",
    "numpy 라이브러리에서도 ctypes를 이용한 C 확장을 제공하기 때문에 이를 이용하여 *데이터 버스*의 형식으로 사용하는 것이 편리하다.  \n",
    "\n",
    ">하지만 이러한 과정도 여러 복잡한 과정을 거치기 때문에 가장 간단히 C 소스코드를 가지고  \n",
    "바로 Python 매핑을 할수 있도록 간단한 예제들에 대하여 C 함수의 Python 매핑 라이브러리를 작성하였다."
   ],
   "cell_type": "markdown",
   "metadata": {}
  },
  {
   "source": [
    "**Keyword** : C extension, optimization, python slow down  \n",
    "**Reference** : [cffi](https://cffi.readthedocs.io/en/latest/), [numba](https://numba.readthedocs.io/en/stable/index.html), [ctypes](https://docs.python.org/ko/3/library/ctypes.html), [swig](http://www.swig.org/), [cppyy](https://cppyy.readthedocs.io/en/latest/)"
   ],
   "cell_type": "markdown",
   "metadata": {}
  },
  {
   "cell_type": "code",
   "execution_count": 1,
   "metadata": {},
   "outputs": [
    {
     "output_type": "stream",
     "name": "stdout",
     "text": [
      "The history saving thread hit an unexpected error (DatabaseError('database disk image is malformed')).History will not be written to the database.\n"
     ]
    }
   ],
   "source": [
    "from uos_statphys import C_ext"
   ]
  },
  {
   "cell_type": "code",
   "execution_count": 2,
   "metadata": {},
   "outputs": [],
   "source": [
    "import uos_statphys"
   ]
  },
  {
   "source": [
    "## 0. Installation\n",
    "\n",
    "\n",
    "\n"
   ],
   "cell_type": "markdown",
   "metadata": {}
  },
  {
   "source": [
    "### 0.1 Prerequisite"
   ],
   "cell_type": "markdown",
   "metadata": {}
  },
  {
   "source": [
    " clang (by llvm)\n"
   ],
   "cell_type": "markdown",
   "metadata": {}
  },
  {
   "source": [
    "### Installation"
   ],
   "cell_type": "markdown",
   "metadata": {}
  },
  {
   "cell_type": "code",
   "execution_count": null,
   "metadata": {},
   "outputs": [],
   "source": [
    "!pip install uos_statphys"
   ]
  },
  {
   "source": [
    "## 1. Overview"
   ],
   "cell_type": "markdown",
   "metadata": {}
  },
  {
   "source": [
    "기본적으로 C extenstion의 build과정은 다음과 같다.\n",
    "\n",
    ">-----   C   ------  \n",
    "1. C souce code  \n",
    "2. Compile as shared library  \n",
    "----- python ------  \n",
    "3. load library with ctypes in python  \n",
    "4. specifying arguments type and result type of each function  \n",
    "5. prepare arguments to use C function  \n",
    "\n",
    "이 라이브러리에서는 위의 과정을 한가지로 축약한다.  \n",
    ">-----   C   ------  \n",
    "1. C souce code with simple decoration  \n",
    "2. using it in python  "
   ],
   "cell_type": "markdown",
   "metadata": {}
  },
  {
   "source": [
    "## 2. Symbol for python mapping"
   ],
   "cell_type": "markdown",
   "metadata": {}
  },
  {
   "source": [
    "Python에서 C코드를 사용하기 위해서는 C 컴파일러의 공유 라이브러리와 같은 방법으로 함수를 불러온다.\n",
    "공유 라이브러리에 존재하는 함수명을 불러오기 때문에 C++ 코드의 경우에는 C에서 사용가능한 함수로 작성해 주어야 한다.  \n",
    "\n",
    "또, Python에서는 공유 라이브러리 내부의 함수의 형태를 인식할 수 없기 때문에  \n",
    "각 함수의 *return type*과 *argument type*을 명시해 주어야 python object를 해당 C type으로 전달해 줄수 있다.  \n",
    "\n",
    "이 문제를 해결하기 위해서 라이브러리에서는 마치 C 컴파일러의 전처리기와 같이 C 코드를 직접 읽어들이고  \n",
    "분석하여 위의 작업들을 자동을 처리한다.  \n",
    "\n",
    "이를 위한 3가지 문법을 아래에서 소개한다."
   ],
   "cell_type": "markdown",
   "metadata": {}
  },
  {
   "source": [
    "- extern_python\n",
    "\n",
    "> 파이썬으로 매핑할 함수들의 헤더가 들어갈 자리를 표시한다. 이는 기존 헤더와 충돌할 수 있기 때문에  \n",
    "미리 선언해둔 헤더가 끝나는 줄에 사용한다.  \n",
    "\n",
    "Ex) \n",
    "\n",
    "```!C\n",
    "...\n",
    "<some pre-declared functions>\n",
    "...\n",
    "<the last line of header>\n",
    "\n",
    "//@extern_python\n",
    "```\n",
    "\n",
    "\n",
    "- python_def  \n",
    "\n",
    "> 파이썬으로 매핑할 함수 표시.  \n",
    "함수가 실제 정의되어 있는 곳의 바로 윗줄에 C-style 주석으로 표기한다. 다음에 정의된 함수를 Python으로 매핑한다고 표시하는 구문이다.  \n",
    "\n",
    "Ex) \n",
    "```\n",
    "//@python_def\n",
    "int some_function(int argument1, int* argument2m ...){\n",
    "    <code>\n",
    "    return ret_val;\n",
    "}\n",
    "```\n",
    "\n",
    "- //!  \n",
    "\n",
    "> 파이썬에서 보이게될 주석 표시. python_def 구문의 밑에 작성한다.(optional)  \n",
    "파이썬에서는 표준규약으로 함수의 내용을 정리해서 주석으로 작성하는 것을 권장하고 있고  \n",
    "이를 인터프리터가 읽어들여 저장하고 있다가 실제 함수를 사용할 때 보여주거나 언제든지 확인할수 있다.  \n",
    "파이썬에 전달할 docstring을 작성하면 C 함수를 매핑할 때 여기에 작성된 docstring도 같이 전달한다.\n",
    "\n",
    "Ex) \n",
    "```\n",
    "//@python_def\n",
    "//!Short summary of this function.\n",
    "//!argument1 is ...\n",
    "//!argument2 is ...\n",
    "//!return is ... \n",
    "int some_function(int argument1, int* argument2m ...){\n",
    "    <code>\n",
    "    return ret_val;\n",
    "}\n",
    "```\n",
    "\n",
    "- //$\n",
    "\n",
    "> 소스코드의 컴파일 명령어 주석. 이를 이용해 해당 코드를 컴파일 한다.(optional)\n",
    "각 소스코드는 해당 소스코드를 컴파일 하기 위한 컴파일 명령어가 필요한 경우가 많고 이를 저장해두는 경우가 있다.  \n",
    "이 라이브러리에서는 위의 형태로 시작하는 single-line comment가 등장하면 해당 줄에서부터 컴파일러와 컴파일 옵션을 서치하여  \n",
    "컴파일을 시도하게 된다. 일반적인 경우와는 달리 파이썬에서 사용가능한 파일은 공유 라이브러리(`.dll`, `.so`, `.dylib`)이므로  \n",
    "공유 라이브러리로 만드는 옵션을 추가하여 공유라이브러리로 컴파일하여 불러오게 된다.  \n",
    "이 라이브러리와는 별개로 이러한 주석을 달아놓는 것은 후에 파일관리를 할때 매우 편리할수 있다.\n",
    "\n",
    "Ex)\n",
    "```\n",
    "//$g++ -o test.out testcode.cpp -std=c++14 \n",
    "#include<stdio.h>\n",
    "...\n",
    "```\n"
   ],
   "cell_type": "markdown",
   "metadata": {}
  },
  {
   "source": [
    "### 2.1 Eaxmple of C code"
   ],
   "cell_type": "markdown",
   "metadata": {}
  },
  {
   "source": [
    "예제 코드는 아래와 같다.  \n",
    "C 언어로 총 4가지의 함수를 정의하였다.\n",
    "- add\n",
    "- array_add\n",
    "- dot_product\n",
    "- fibonacci_array\n",
    "\n",
    "위에서 정의한 문법들을 실제로 어떻게 사용되는 지에 대한 예제도 포함 되어있다."
   ],
   "cell_type": "markdown",
   "metadata": {}
  },
  {
   "cell_type": "code",
   "execution_count": 4,
   "metadata": {},
   "outputs": [],
   "source": [
    "C_code = \"\"\"\n",
    "//$g++ -std=c++14 -o test.out testcode.cpp -Wall\n",
    "#include <stdio.h>\n",
    "#include <iostream>\n",
    "#include <vector>\n",
    "\n",
    "\n",
    "int add(int, int);\n",
    "void array_add(int*, int*, int*, int);\n",
    "void fibonacci_array(int*, int);\n",
    "\n",
    "//@extern_python\n",
    "\n",
    "using namespace std;\n",
    "\n",
    "// some c++ code\n",
    "\n",
    "//@python_def\n",
    "int add(int a, int b){\n",
    "    return a + b;\n",
    "}\n",
    "\n",
    "//@python_def\n",
    "void array_add(int* c, int* a, int* b, int n){\n",
    "    for (size_t i = 0; i < n; i++)\n",
    "    {\n",
    "        c[i] = a[i] +b[i] + 1;\n",
    "    }\n",
    "}\n",
    "\n",
    "//@python_def\n",
    "int dot_product(int* a, int* b, int n){\n",
    "    int sum = 0;\n",
    "    for (size_t i = 0; i < n; i++)\n",
    "    {\n",
    "        sum = sum +  a[i] * b[i];\n",
    "    }\n",
    "    return sum;\n",
    "}\n",
    "\n",
    "\n",
    "\n",
    "//@python_def\n",
    "//!Get n-th fibonacci series.\n",
    "//! Parameters\n",
    "//! -----------\n",
    "//! result : nd.array\n",
    "//!    the array will be filled with fibonacci series by this function.\n",
    "//! n : int\n",
    "//!    the length of array\n",
    "void fibonacci_array(\n",
    "    int* result, \n",
    "    int n\n",
    "    ){\n",
    "    for (size_t i = 0; i < n; i++)\n",
    "    {\n",
    "        if (i>1){\n",
    "            result[i] = result[i-1]+result[i-2];\n",
    "        }\n",
    "        else{\n",
    "            result[i] = 1;\n",
    "        }\n",
    "    }\n",
    "}\n",
    "\n",
    "int main(void){\n",
    "    cout<<\"Test File!\"<<endl;\n",
    "    return 0;\n",
    "}\n",
    "\"\"\"\n"
   ]
  },
  {
   "cell_type": "code",
   "execution_count": 5,
   "metadata": {},
   "outputs": [],
   "source": [
    "with open(\"testcode.cpp\", 'w') as f:\n",
    "    f.write(C_code)"
   ]
  },
  {
   "source": [
    "## 2. C type mapping"
   ],
   "cell_type": "markdown",
   "metadata": {}
  },
  {
   "source": [
    "Python은 기본적으로 object로 구성되어있는 언어이기 때문에 둘 사이에 변환은 필수적인 사안이다.  \n",
    "(단적으로 이야기하자면,  Python의 `int`와 C에서의 `int`는 같지 않다.)  \n",
    "따라서, 앞서 이야기했듯이, Python에서 C 함수를 호출할때 전달해주는 인자들을 적절히 변환을 거쳐야 한다.  \n",
    "함수의 인자의 선언을 보고 아래의 표에 따라 Python의 변수를 해당 c type으로 변환한다.  \n",
    "(이밖의 C type은 현재 지원하지 않습니다. 지원이 필요할 경우 메일로 회신 부탁드립니다. (Sturcture 포함.))\n",
    "\n",
    "추가로, 여기서는 모든 pointer를 numpy array로 매핑한다.  "
   ],
   "cell_type": "markdown",
   "metadata": {}
  },
  {
   "cell_type": "code",
   "execution_count": 6,
   "metadata": {},
   "outputs": [
    {
     "output_type": "execute_result",
     "data": {
      "text/plain": [
       "{'int': ctypes.c_long,\n",
       " 'long': ctypes.c_long,\n",
       " 'float': ctypes.c_float,\n",
       " 'float&': ctypes.c_float,\n",
       " 'double': ctypes.c_double,\n",
       " 'bool': ctypes.c_bool,\n",
       " 'float*': numpy.ctypeslib.ndpointer_<f4,\n",
       " 'char*': numpy.ctypeslib.ndpointer_|i1,\n",
       " 'int*': numpy.ctypeslib.ndpointer_<i4,\n",
       " 'long*': numpy.ctypeslib.ndpointer_<i8,\n",
       " 'double*': numpy.ctypeslib.ndpointer_<f8,\n",
       " 'int**': numpy.ctypeslib.ndpointer_<f8_2d,\n",
       " 'void': None}"
      ]
     },
     "metadata": {},
     "execution_count": 6
    }
   ],
   "source": [
    "import ctypes\n",
    "import numpy as np\n",
    "# c and python interface.\n",
    "C_ext.c_to_py "
   ]
  },
  {
   "source": [
    "혹시 이 밖에 사용해야하는 argument types이 있다면 해당 type을 ctypes 모듈 혹은 numpy ctypeslib을 참고하여   \n",
    "알맞은 타입을 새로 지정해주면 사용가능하다.  \n",
    "(특정 함수의 특정 인자의 변환에 대한 규칙을 따로 정할 수 있는 문법은 아직 개발되지 않음.)"
   ],
   "cell_type": "markdown",
   "metadata": {}
  },
  {
   "cell_type": "code",
   "execution_count": 7,
   "metadata": {},
   "outputs": [],
   "source": [
    "C_ext.c_to_py['uint'] = ctypes.c_uint"
   ]
  },
  {
   "source": [
    "### Caution\n",
    "\n",
    "주의사항\n",
    "**Caution** : python에서 C 함수를 호출할때마다 위의 형 변환이 이루어지기 때문에 함수 호출에 ~10 $\\mu$s 정도 소요된다.\n",
    "\n",
    "반복적으로 사용해야하는 함수의 경우 그런 C 함수를 짜서 불러오는 것이 속도면에서 유리하다."
   ],
   "cell_type": "markdown",
   "metadata": {}
  },
  {
   "source": [
    "## 3. Usage"
   ],
   "cell_type": "markdown",
   "metadata": {}
  },
  {
   "source": [
    "지금까지 소개한 문법으로 작성된 C코드를 집어 넣고, compile option을 적어줄수 있다.  \n",
    "기본 컴파일러는 \n",
    "- Windows : clang (by llvm)\n",
    "- linux, OSX : gcc (g++)\n",
    "\n",
    "로 정의되어 있고, 이를 변경하기 위해서는 `set_compiler(c = None, cpp = None)` 함수를 통해 해당 언의 컴파일러 이름을 써서 변경할 수 있다.\n",
    "\n",
    "라이브러리는 해당 소스파일을 아래와 같이 컴파일한다.\n",
    "Ex)\n",
    "```\n",
    "target : testcode.cpp\n",
    "{making} __temp__testcode.cpp\n",
    "{compiler} -o libtestcode.{outext} __temp__testcode {Compiler options}\n",
    "```\n"
   ],
   "cell_type": "markdown",
   "metadata": {}
  },
  {
   "cell_type": "code",
   "execution_count": 8,
   "metadata": {},
   "outputs": [],
   "source": [
    "C_ext.set_compiler(c = 'cl', cpp = 'clang++')"
   ]
  },
  {
   "source": [
    "라이브러리에서 해당 코드를 이용해 compile 을 진행한다. "
   ],
   "cell_type": "markdown",
   "metadata": {}
  },
  {
   "cell_type": "code",
   "execution_count": 9,
   "metadata": {},
   "outputs": [
    {
     "output_type": "stream",
     "name": "stdout",
     "text": [
      "C functions found from source : \n\tadd\n\tarray_add\n\tdot_product\n\tfibonacci_array\nCompile : clang++ -o __libtestcode.dll __temp__testcode.cpp -shared -O2\n"
     ]
    }
   ],
   "source": [
    "cdll = C_ext.from_C_source(\"testcode.cpp\", \"-O2\", debug = True)"
   ]
  },
  {
   "source": [
    "compile error가 발생할 수 있다."
   ],
   "cell_type": "markdown",
   "metadata": {}
  },
  {
   "cell_type": "code",
   "execution_count": 10,
   "metadata": {},
   "outputs": [
    {
     "output_type": "execute_result",
     "data": {
      "text/plain": [
       "<uos_statphys.C_ext.C_functions at 0x25dc2e0a408>"
      ]
     },
     "metadata": {},
     "execution_count": 10
    }
   ],
   "source": [
    "cdll"
   ]
  },
  {
   "cell_type": "code",
   "execution_count": 11,
   "metadata": {},
   "outputs": [
    {
     "output_type": "stream",
     "name": "stdout",
     "text": [
      "Get n-th fibonacci series.\n Parameters\n -----------\n result : nd.array\n    the array will be filled with fibonacci series by this function.\n n : int\n    the length of array\n\n"
     ]
    }
   ],
   "source": [
    "print(cdll.fibonacci_array.__doc__)"
   ]
  },
  {
   "source": [
    "불러들여진 함수는 C 함수에서의 정의를 그대로 읽어 같은 형태와 이름의 함수를 정의해 제공한다."
   ],
   "cell_type": "markdown",
   "metadata": {}
  },
  {
   "cell_type": "code",
   "execution_count": 12,
   "metadata": {},
   "outputs": [
    {
     "output_type": "execute_result",
     "data": {
      "text/plain": [
       "<function uos_statphys.C_ext.functions.<locals>.fibonacci_array(result: numpy.ndarray, n: int) -> None>"
      ]
     },
     "metadata": {},
     "execution_count": 12
    }
   ],
   "source": [
    "cdll.fibonacci_array"
   ]
  },
  {
   "cell_type": "code",
   "execution_count": 13,
   "metadata": {},
   "outputs": [
    {
     "output_type": "stream",
     "name": "stdout",
     "text": [
      "[ 1  1  2  3  5  8 13 21 34 55]\n"
     ]
    }
   ],
   "source": [
    "a = np.empty([10], dtype = np.int32)\n",
    "cdll.fibonacci_array(a, len(a))\n",
    "print(a)"
   ]
  },
  {
   "source": [
    "## 4. Performance"
   ],
   "cell_type": "markdown",
   "metadata": {}
  },
  {
   "cell_type": "code",
   "execution_count": 14,
   "metadata": {},
   "outputs": [],
   "source": [
    "from numba import njit"
   ]
  },
  {
   "cell_type": "code",
   "execution_count": 15,
   "metadata": {},
   "outputs": [],
   "source": [
    "@njit\n",
    "def fibonacci_array(a, n):\n",
    "    for i in range(n):\n",
    "        if i>1:\n",
    "            a[i] = a[i-1] + a[i-2]\n",
    "        else:\n",
    "            a[i] = 1"
   ]
  },
  {
   "cell_type": "code",
   "execution_count": 16,
   "metadata": {},
   "outputs": [],
   "source": [
    "size = 10000"
   ]
  },
  {
   "source": [
    "- Numba Just-In-Time compile optimization"
   ],
   "cell_type": "markdown",
   "metadata": {}
  },
  {
   "cell_type": "code",
   "execution_count": 17,
   "metadata": {},
   "outputs": [
    {
     "output_type": "stream",
     "name": "stdout",
     "text": [
      "12.5 µs ± 75 ns per loop (mean ± std. dev. of 7 runs, 100000 loops each)\n"
     ]
    }
   ],
   "source": [
    "%%timeit \n",
    "a = np.empty([size], dtype = np.int32)\n",
    "fibonacci_array(a, len(a))"
   ]
  },
  {
   "source": [
    "- Ctypes \n",
    "\n",
    "> Numba에 비해 마이크로초 정도 차이나는 것을 확인할 수 있다."
   ],
   "cell_type": "markdown",
   "metadata": {}
  },
  {
   "cell_type": "code",
   "execution_count": 18,
   "metadata": {
    "tags": []
   },
   "outputs": [
    {
     "output_type": "stream",
     "name": "stdout",
     "text": [
      "16.9 µs ± 321 ns per loop (mean ± std. dev. of 7 runs, 100000 loops each)\n"
     ]
    }
   ],
   "source": [
    "%%timeit \n",
    "a = np.empty([size], dtype = np.int32)\n",
    "cdll.fibonacci_array(a, len(a))"
   ]
  },
  {
   "source": [
    "- pure python"
   ],
   "cell_type": "markdown",
   "metadata": {}
  },
  {
   "cell_type": "code",
   "execution_count": 19,
   "metadata": {},
   "outputs": [
    {
     "output_type": "stream",
     "name": "stdout",
     "text": [
      "8.35 ms ± 23 µs per loop (mean ± std. dev. of 7 runs, 100 loops each)\n"
     ]
    }
   ],
   "source": [
    "%%timeit \n",
    "a = np.empty([size], dtype = np.int32)\n",
    "fibonacci_array.py_func(a, len(a))"
   ]
  },
  {
   "source": [
    "## 5. Conclusion\n",
    "Numba의 최적화보다는 느리지만, C 코드를 그대로 가져와 사용할수 있다는 점에서 충분히 이점이 있다고 생각한다.  \n",
    "이러한 이점은 디버깅, C 코드의 체크 등등 여러 방법으로 사용할 수 있을 것이라고 기대한다."
   ],
   "cell_type": "markdown",
   "metadata": {}
  },
  {
   "cell_type": "code",
   "execution_count": null,
   "metadata": {},
   "outputs": [],
   "source": []
  }
 ]
}