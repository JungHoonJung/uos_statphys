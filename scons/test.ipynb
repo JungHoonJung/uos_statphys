{
 "metadata": {
  "language_info": {
   "codemirror_mode": {
    "name": "ipython",
    "version": 3
   },
   "file_extension": ".py",
   "mimetype": "text/x-python",
   "name": "python",
   "nbconvert_exporter": "python",
   "pygments_lexer": "ipython3",
   "version": "3.7.4-final"
  },
  "orig_nbformat": 2,
  "kernelspec": {
   "name": "python3",
   "display_name": "Python 3",
   "language": "python"
  }
 },
 "nbformat": 4,
 "nbformat_minor": 2,
 "cells": [
  {
   "cell_type": "code",
   "execution_count": 2,
   "metadata": {},
   "outputs": [
    {
     "output_type": "error",
     "ename": "ModuleNotFoundError",
     "evalue": "No module named 'SCons'",
     "traceback": [
      "\u001b[0;31m---------------------------------------------------------------------------\u001b[0m",
      "\u001b[0;31mModuleNotFoundError\u001b[0m                       Traceback (most recent call last)",
      "\u001b[0;32m<ipython-input-2-726c53c27561>\u001b[0m in \u001b[0;36m<module>\u001b[0;34m\u001b[0m\n\u001b[0;32m----> 1\u001b[0;31m \u001b[0;32mimport\u001b[0m \u001b[0mSCons\u001b[0m \u001b[0;32mas\u001b[0m \u001b[0msc\u001b[0m\u001b[0;34m\u001b[0m\u001b[0;34m\u001b[0m\u001b[0m\n\u001b[0m",
      "\u001b[0;31mModuleNotFoundError\u001b[0m: No module named 'SCons'"
     ]
    }
   ],
   "source": [
    "import SCons as sc"
   ]
  },
  {
   "cell_type": "code",
   "execution_count": 1,
   "metadata": {},
   "outputs": [],
   "source": [
    "import os"
   ]
  },
  {
   "cell_type": "code",
   "execution_count": 3,
   "metadata": {},
   "outputs": [],
   "source": [
    "from  cffi import FFI"
   ]
  },
  {
   "cell_type": "code",
   "execution_count": 4,
   "metadata": {},
   "outputs": [],
   "source": [
    "import subprocess"
   ]
  },
  {
   "cell_type": "code",
   "execution_count": 6,
   "metadata": {},
   "outputs": [
    {
     "output_type": "execute_result",
     "data": {
      "text/plain": [
       "CompletedProcess(args=['dir'], returncode=0, stdout=b'__temp__test.cpp  a.out  test.cpp  test.ipynb  test.so\\n', stderr=b'')"
      ]
     },
     "metadata": {},
     "execution_count": 6
    }
   ],
   "source": [
    "subprocess.run([\"dir\"],capture_output=True, shell=True)"
   ]
  },
  {
   "cell_type": "code",
   "execution_count": 3,
   "metadata": {},
   "outputs": [
    {
     "output_type": "execute_result",
     "data": {
      "text/plain": [
       "0"
      ]
     },
     "metadata": {},
     "execution_count": 3
    }
   ],
   "source": []
  },
  {
   "cell_type": "code",
   "execution_count": 16,
   "metadata": {},
   "outputs": [],
   "source": [
    "import numpy as np"
   ]
  },
  {
   "cell_type": "code",
   "execution_count": 10,
   "metadata": {},
   "outputs": [],
   "source": [
    "import ctypes"
   ]
  },
  {
   "cell_type": "code",
   "execution_count": 67,
   "metadata": {},
   "outputs": [],
   "source": [
    "a = ctypes.CDLL(\"./libtest.dll\")"
   ]
  },
  {
   "cell_type": "code",
   "execution_count": 1,
   "metadata": {},
   "outputs": [
    {
     "output_type": "stream",
     "name": "stdout",
     "text": [
      "The history saving thread hit an unexpected error (DatabaseError('database disk image is malformed')).History will not be written to the database.\n"
     ]
    }
   ],
   "source": [
    "filename = \"test.cpp\"\n",
    "\n",
    "tempname = \"__temp__\"+filename"
   ]
  },
  {
   "cell_type": "code",
   "execution_count": 2,
   "metadata": {},
   "outputs": [],
   "source": [
    "with  open(filename) as cppsource:\n",
    "    header = []\n",
    "    functions = []\n",
    "    header_line = 0\n",
    "    \n",
    "    for i, line in enumerate(cppsource):\n",
    "        if line[:16] == \"//@extern_python\":\n",
    "            header_line = i\n",
    "        if line[:13] == \"//@python_def\":\n",
    "            functions.append(\")\".join(cppsource.readline().split(\")\")[:-1])+\");\\r\\n\")\n",
    "        if line[:13] == \"//@python_var\":\n",
    "            functions.append(cppsource.readline())\n",
    "        if line[:14] == \"//@python_defs\":\n",
    "            while line[:18] == \"//@python_defs_end\":\n",
    "                line = cppsource.readline()\n",
    "                header.append(cppsource.readline())\n",
    "            \n"
   ]
  },
  {
   "cell_type": "code",
   "execution_count": 3,
   "metadata": {},
   "outputs": [],
   "source": [
    "with open(tempname,\"w\") as cpp_source:\n",
    "    with open(filename) as cppsource:\n",
    "        for i,line in enumerate(cppsource):\n",
    "            if i == header_line:\n",
    "                cpp_source.write('extern \"C\"{\\r\\n')\n",
    "                for cdefs in header:\n",
    "                    cpp_source.write(\"__declspec(dllexport) \"+cdefs)\n",
    "                cpp_source.write('};\\r\\n')\n",
    "            else:\n",
    "                cpp_source.write(line)\n",
    "                "
   ]
  },
  {
   "cell_type": "code",
   "execution_count": 4,
   "metadata": {},
   "outputs": [],
   "source": [
    "if os.system(f'clang -o libtest.dll {tempname} -shared') == 2:\n",
    "    raise SyntaxError(\"compilation failed.\")"
   ]
  },
  {
   "cell_type": "code",
   "execution_count": 15,
   "metadata": {},
   "outputs": [],
   "source": [
    "from tqdm import tqdm "
   ]
  },
  {
   "cell_type": "code",
   "execution_count": 25,
   "metadata": {},
   "outputs": [],
   "source": [
    "import numpy as np\n",
    "a = np.ctypeslib.ndpointer()"
   ]
  },
  {
   "cell_type": "code",
   "execution_count": 28,
   "metadata": {},
   "outputs": [],
   "source": [
    "a = np.ctypeslib.ndpointer(dtype = np.int32)"
   ]
  },
  {
   "cell_type": "code",
   "execution_count": 30,
   "metadata": {},
   "outputs": [
    {
     "output_type": "execute_result",
     "data": {
      "text/plain": [
       "mappingproxy({'_dtype_': dtype('int32'),\n",
       "              '_shape_': None,\n",
       "              '_ndim_': None,\n",
       "              '_flags_': None,\n",
       "              '__module__': 'numpy.ctypeslib',\n",
       "              '__doc__': None})"
      ]
     },
     "metadata": {},
     "execution_count": 30
    }
   ],
   "source": [
    "vars(a)"
   ]
  },
  {
   "cell_type": "code",
   "execution_count": 225,
   "metadata": {},
   "outputs": [],
   "source": [
    "def cdll_types(header):\n",
    "    ans = {}\n",
    "    for line in header:\n",
    "        if line.lstrip():\n",
    "            if len(line.split(\"(\"))<2: continue\n",
    "            func_name = line.split(\"(\")[0].split()[-2:]\n",
    "            #print(func_name)\n",
    "            restype     = (func_name[0])\n",
    "            name        = func_name[1]\n",
    "            func_args   = line.split(\"(\")[1].split(\")\")[0].split(\",\")\n",
    "            argtypes    = []\n",
    "            argnames    = []\n",
    "            for func_arg in func_args:\n",
    "                args = func_arg.split()\n",
    "                if args[1][0] == \"*\" or args[1][0] == \"&\":\n",
    "                    argtypes.append(args[0]+args[1][0])\n",
    "                    argnames.append(args[1][1:])\n",
    "                else:\n",
    "                    argtypes.append(args[0])\n",
    "                    argnames.append(args[1])\n",
    "\n",
    "            ans[name] = (argtypes, argnames, restype)\n",
    "    return ans\n",
    "                \n",
    "\n",
    "def c_interface(_cdll, func_name, argtypes, restype = None):\n",
    "    func = eval(f'_cdll.{func_name}')\n",
    "    func.argtypes = argtypes\n",
    "    if restype is not None:\n",
    "        func.restype = restype\n",
    "\n",
    "def interface_from_header(cdll, header, py_dict, include = None, exclude = None):\n",
    "    cdll.header = header\n",
    "    c_funcs = cdll_types(header)\n",
    "    if exclude is None:\n",
    "        exclude = []\n",
    "    for f_name in c_funcs:\n",
    "        if f_name in exclude: continue\n",
    "        if include is not None and not f_name in include: continue\n",
    "        args, anames,  res = c_funcs[f_name]\n",
    "        args = [py_dict[arg] for arg in args]\n",
    "        res  = py_dict[res]\n",
    "        c_interface(cdll, f_name, args, res)\n",
    "\n",
    "def function_make(cdll, fname, argtypes, args, restype):\n",
    "    argstring = ','.join(args)\n",
    "    convert = \"\"\n",
    "    for name, types in zip(args, argtypes):\n",
    "        if hasattr(c_to_py[types],\"_dtype_\"):\n",
    "            convert+=f\"\\t\\tif not isinstance({name}, np.ndarray):\\n\"\n",
    "            convert+=f\"\\t\\t\\t{name}=np.array({name}, dtype=np.{c_to_py[types]._dtype_})\\n\"\n",
    "    \n",
    "    pdef = f\"def closure(cdll):\\n\"\n",
    "    pdef += f\"\\tdef {fname}({argstring}):\\n\"\n",
    "    if convert:\n",
    "        pdef += convert\n",
    "    #pdef += f\"\\t\\tprint(c, a, b, n)\\n\"\n",
    "    pdef += f\"\\t\\tcdll.{fname}({argstring})\\n\"\n",
    "    pdef += f\"\\treturn {fname}\"\n",
    "    print(pdef)\n",
    "    exec(pdef)\n",
    "    return locals()['closure'](cdll)"
   ]
  },
  {
   "cell_type": "code",
   "execution_count": 172,
   "metadata": {},
   "outputs": [],
   "source": [
    "# c and python interface.\n",
    "c_to_py ={\n",
    "    'int'       : ctypes.c_int,\n",
    "    'float'     : ctypes.c_float,\n",
    "    'float&'     : ctypes.c_float,\n",
    "    'double'    : ctypes.c_double,\n",
    "    'float*'    : np.ctypeslib.ndpointer(dtype=np.float32),\n",
    "    'int*'      : np.ctypeslib.ndpointer(dtype=np.int32),\n",
    "    'double*'   : np.ctypeslib.ndpointer(dtype=np.float64),\n",
    "    'void'      : None\n",
    "}\n"
   ]
  },
  {
   "cell_type": "code",
   "execution_count": 187,
   "metadata": {},
   "outputs": [],
   "source": [
    "types = cdll_types(header)"
   ]
  },
  {
   "cell_type": "code",
   "execution_count": 206,
   "metadata": {},
   "outputs": [],
   "source": [
    "interface_from_header(a, header, c_to_py)"
   ]
  },
  {
   "cell_type": "code",
   "execution_count": 121,
   "metadata": {},
   "outputs": [
    {
     "output_type": "execute_result",
     "data": {
      "text/plain": [
       "<CDLL './libtest.dll', handle 7ffdf4130000 at 0x28382a6df08>"
      ]
     },
     "metadata": {},
     "execution_count": 121
    }
   ],
   "source": [
    "a"
   ]
  },
  {
   "cell_type": "code",
   "execution_count": 140,
   "metadata": {},
   "outputs": [
    {
     "output_type": "execute_result",
     "data": {
      "text/plain": [
       "['int add(int a, int b);\\r\\n',\n",
       " 'void array_add(int* c, int* a, int* b, int n);\\r\\n']"
      ]
     },
     "metadata": {},
     "execution_count": 140
    }
   ],
   "source": [
    "header"
   ]
  },
  {
   "cell_type": "code",
   "execution_count": 170,
   "metadata": {},
   "outputs": [
    {
     "output_type": "error",
     "ename": "NameError",
     "evalue": "name 'closure' is not defined",
     "traceback": [
      "\u001b[1;31m---------------------------------------------------------------------------\u001b[0m",
      "\u001b[1;31mNameError\u001b[0m                                 Traceback (most recent call last)",
      "\u001b[1;32m<ipython-input-170-a58e815001c8>\u001b[0m in \u001b[0;36m<module>\u001b[1;34m\u001b[0m\n\u001b[1;32m----> 1\u001b[1;33m \u001b[0mclosure\u001b[0m\u001b[1;33m\u001b[0m\u001b[1;33m\u001b[0m\u001b[0m\n\u001b[0m",
      "\u001b[1;31mNameError\u001b[0m: name 'closure' is not defined"
     ]
    }
   ],
   "source": [
    "closure"
   ]
  },
  {
   "cell_type": "code",
   "execution_count": 226,
   "metadata": {},
   "outputs": [
    {
     "output_type": "stream",
     "name": "stdout",
     "text": [
      "def closure(cdll):\n",
      "\tdef array_add(c,a,b,n):\n",
      "\t\tif not isinstance(c, np.ndarray):\n",
      "\t\t\tc=np.array(c, dtype=np.int32)\n",
      "\t\tif not isinstance(a, np.ndarray):\n",
      "\t\t\ta=np.array(a, dtype=np.int32)\n",
      "\t\tif not isinstance(b, np.ndarray):\n",
      "\t\t\tb=np.array(b, dtype=np.int32)\n",
      "\t\tprint(c, a, b, n)\n",
      "\t\tcdll.array_add(c,a,b,n)\n",
      "\treturn array_add\n"
     ]
    }
   ],
   "source": [
    "b = function_make(a, 'array_add', *types['array_add'])"
   ]
  },
  {
   "cell_type": "code",
   "execution_count": 227,
   "metadata": {},
   "outputs": [
    {
     "output_type": "stream",
     "name": "stdout",
     "text": [
      "[3] [3] [2] 1\n"
     ]
    }
   ],
   "source": [
    "b(ttt, [3], [2], 1)"
   ]
  },
  {
   "cell_type": "code",
   "execution_count": 228,
   "metadata": {},
   "outputs": [
    {
     "output_type": "execute_result",
     "data": {
      "text/plain": [
       "array([5])"
      ]
     },
     "metadata": {},
     "execution_count": 228
    }
   ],
   "source": [
    "ttt"
   ]
  },
  {
   "cell_type": "code",
   "execution_count": 220,
   "metadata": {},
   "outputs": [],
   "source": [
    "ttt1 = np.array(ttt)"
   ]
  },
  {
   "cell_type": "code",
   "execution_count": 221,
   "metadata": {},
   "outputs": [
    {
     "output_type": "execute_result",
     "data": {
      "text/plain": [
       "1"
      ]
     },
     "metadata": {},
     "execution_count": 221
    }
   ],
   "source": [
    "a.array_add(ttt1, np.array([3]),np.array([2]),1)"
   ]
  },
  {
   "cell_type": "code",
   "execution_count": 222,
   "metadata": {},
   "outputs": [
    {
     "output_type": "execute_result",
     "data": {
      "text/plain": [
       "array([3])"
      ]
     },
     "metadata": {},
     "execution_count": 222
    }
   ],
   "source": [
    "ttt"
   ]
  },
  {
   "cell_type": "code",
   "execution_count": 217,
   "metadata": {},
   "outputs": [],
   "source": [
    "ttt[0] =3"
   ]
  },
  {
   "cell_type": "code",
   "execution_count": 211,
   "metadata": {},
   "outputs": [
    {
     "output_type": "execute_result",
     "data": {
      "text/plain": [
       "array([3])"
      ]
     },
     "metadata": {},
     "execution_count": 211
    }
   ],
   "source": [
    "ttt"
   ]
  },
  {
   "cell_type": "code",
   "execution_count": 152,
   "metadata": {},
   "outputs": [
    {
     "output_type": "execute_result",
     "data": {
      "text/plain": [
       "array([1634625072])"
      ]
     },
     "metadata": {},
     "execution_count": 152
    }
   ],
   "source": [
    "ttt"
   ]
  },
  {
   "cell_type": "code",
   "execution_count": 181,
   "metadata": {},
   "outputs": [
    {
     "output_type": "error",
     "ename": "NameError",
     "evalue": "name 'np' is not defined",
     "traceback": [
      "\u001b[1;31m---------------------------------------------------------------------------\u001b[0m",
      "\u001b[1;31mNameError\u001b[0m                                 Traceback (most recent call last)",
      "\u001b[1;32m<ipython-input-181-5a46a1113527>\u001b[0m in \u001b[0;36m<module>\u001b[1;34m\u001b[0m\n\u001b[0;32m      1\u001b[0m \u001b[0mttt\u001b[0m \u001b[1;33m=\u001b[0m \u001b[0mnp\u001b[0m\u001b[1;33m.\u001b[0m\u001b[0mempty\u001b[0m\u001b[1;33m(\u001b[0m\u001b[1;33m[\u001b[0m\u001b[1;36m1\u001b[0m\u001b[1;33m]\u001b[0m\u001b[1;33m,\u001b[0m \u001b[0mdtype\u001b[0m \u001b[1;33m=\u001b[0m \u001b[0mnp\u001b[0m\u001b[1;33m.\u001b[0m\u001b[0mint32\u001b[0m\u001b[1;33m)\u001b[0m\u001b[1;33m\u001b[0m\u001b[1;33m\u001b[0m\u001b[0m\n\u001b[1;32m----> 2\u001b[1;33m \u001b[0mb\u001b[0m\u001b[1;33m(\u001b[0m\u001b[0mttt\u001b[0m\u001b[1;33m,\u001b[0m\u001b[1;33m[\u001b[0m\u001b[1;36m3\u001b[0m\u001b[1;33m]\u001b[0m\u001b[1;33m,\u001b[0m\u001b[1;33m[\u001b[0m\u001b[1;36m2\u001b[0m\u001b[1;33m]\u001b[0m\u001b[1;33m,\u001b[0m\u001b[1;36m1\u001b[0m\u001b[1;33m)\u001b[0m\u001b[1;33m\u001b[0m\u001b[1;33m\u001b[0m\u001b[0m\n\u001b[0m",
      "\u001b[1;32m<string>\u001b[0m in \u001b[0;36marray_add\u001b[1;34m(c, a, b, n)\u001b[0m\n",
      "\u001b[1;31mNameError\u001b[0m: name 'np' is not defined"
     ]
    }
   ],
   "source": [
    "ttt = np.empty([1], dtype = np.int32)\n",
    "b(ttt,[3],[2],1)"
   ]
  },
  {
   "cell_type": "code",
   "execution_count": 168,
   "metadata": {},
   "outputs": [],
   "source": [
    "import inspect"
   ]
  },
  {
   "cell_type": "code",
   "execution_count": 182,
   "metadata": {},
   "outputs": [
    {
     "output_type": "error",
     "ename": "OSError",
     "evalue": "could not get source code",
     "traceback": [
      "\u001b[1;31m---------------------------------------------------------------------------\u001b[0m",
      "\u001b[1;31mOSError\u001b[0m                                   Traceback (most recent call last)",
      "\u001b[1;32m<ipython-input-182-b0935a3b4a24>\u001b[0m in \u001b[0;36m<module>\u001b[1;34m\u001b[0m\n\u001b[1;32m----> 1\u001b[1;33m \u001b[0mprint\u001b[0m\u001b[1;33m(\u001b[0m\u001b[0minspect\u001b[0m\u001b[1;33m.\u001b[0m\u001b[0mgetsource\u001b[0m\u001b[1;33m(\u001b[0m\u001b[0mb\u001b[0m\u001b[1;33m)\u001b[0m\u001b[1;33m)\u001b[0m\u001b[1;33m\u001b[0m\u001b[1;33m\u001b[0m\u001b[0m\n\u001b[0m",
      "\u001b[1;32m~\\Anaconda3\\lib\\inspect.py\u001b[0m in \u001b[0;36mgetsource\u001b[1;34m(object)\u001b[0m\n\u001b[0;32m    971\u001b[0m     \u001b[1;32mor\u001b[0m \u001b[0mcode\u001b[0m \u001b[0mobject\u001b[0m\u001b[1;33m.\u001b[0m  \u001b[0mThe\u001b[0m \u001b[0msource\u001b[0m \u001b[0mcode\u001b[0m \u001b[1;32mis\u001b[0m \u001b[0mreturned\u001b[0m \u001b[1;32mas\u001b[0m \u001b[0ma\u001b[0m \u001b[0msingle\u001b[0m \u001b[0mstring\u001b[0m\u001b[1;33m.\u001b[0m  \u001b[0mAn\u001b[0m\u001b[1;33m\u001b[0m\u001b[1;33m\u001b[0m\u001b[0m\n\u001b[0;32m    972\u001b[0m     OSError is raised if the source code cannot be retrieved.\"\"\"\n\u001b[1;32m--> 973\u001b[1;33m     \u001b[0mlines\u001b[0m\u001b[1;33m,\u001b[0m \u001b[0mlnum\u001b[0m \u001b[1;33m=\u001b[0m \u001b[0mgetsourcelines\u001b[0m\u001b[1;33m(\u001b[0m\u001b[0mobject\u001b[0m\u001b[1;33m)\u001b[0m\u001b[1;33m\u001b[0m\u001b[1;33m\u001b[0m\u001b[0m\n\u001b[0m\u001b[0;32m    974\u001b[0m     \u001b[1;32mreturn\u001b[0m \u001b[1;34m''\u001b[0m\u001b[1;33m.\u001b[0m\u001b[0mjoin\u001b[0m\u001b[1;33m(\u001b[0m\u001b[0mlines\u001b[0m\u001b[1;33m)\u001b[0m\u001b[1;33m\u001b[0m\u001b[1;33m\u001b[0m\u001b[0m\n\u001b[0;32m    975\u001b[0m \u001b[1;33m\u001b[0m\u001b[0m\n",
      "\u001b[1;32m~\\Anaconda3\\lib\\inspect.py\u001b[0m in \u001b[0;36mgetsourcelines\u001b[1;34m(object)\u001b[0m\n\u001b[0;32m    953\u001b[0m     raised if the source code cannot be retrieved.\"\"\"\n\u001b[0;32m    954\u001b[0m     \u001b[0mobject\u001b[0m \u001b[1;33m=\u001b[0m \u001b[0munwrap\u001b[0m\u001b[1;33m(\u001b[0m\u001b[0mobject\u001b[0m\u001b[1;33m)\u001b[0m\u001b[1;33m\u001b[0m\u001b[1;33m\u001b[0m\u001b[0m\n\u001b[1;32m--> 955\u001b[1;33m     \u001b[0mlines\u001b[0m\u001b[1;33m,\u001b[0m \u001b[0mlnum\u001b[0m \u001b[1;33m=\u001b[0m \u001b[0mfindsource\u001b[0m\u001b[1;33m(\u001b[0m\u001b[0mobject\u001b[0m\u001b[1;33m)\u001b[0m\u001b[1;33m\u001b[0m\u001b[1;33m\u001b[0m\u001b[0m\n\u001b[0m\u001b[0;32m    956\u001b[0m \u001b[1;33m\u001b[0m\u001b[0m\n\u001b[0;32m    957\u001b[0m     \u001b[1;32mif\u001b[0m \u001b[0mistraceback\u001b[0m\u001b[1;33m(\u001b[0m\u001b[0mobject\u001b[0m\u001b[1;33m)\u001b[0m\u001b[1;33m:\u001b[0m\u001b[1;33m\u001b[0m\u001b[1;33m\u001b[0m\u001b[0m\n",
      "\u001b[1;32m~\\Anaconda3\\lib\\inspect.py\u001b[0m in \u001b[0;36mfindsource\u001b[1;34m(object)\u001b[0m\n\u001b[0;32m    784\u001b[0m         \u001b[0mlines\u001b[0m \u001b[1;33m=\u001b[0m \u001b[0mlinecache\u001b[0m\u001b[1;33m.\u001b[0m\u001b[0mgetlines\u001b[0m\u001b[1;33m(\u001b[0m\u001b[0mfile\u001b[0m\u001b[1;33m)\u001b[0m\u001b[1;33m\u001b[0m\u001b[1;33m\u001b[0m\u001b[0m\n\u001b[0;32m    785\u001b[0m     \u001b[1;32mif\u001b[0m \u001b[1;32mnot\u001b[0m \u001b[0mlines\u001b[0m\u001b[1;33m:\u001b[0m\u001b[1;33m\u001b[0m\u001b[1;33m\u001b[0m\u001b[0m\n\u001b[1;32m--> 786\u001b[1;33m         \u001b[1;32mraise\u001b[0m \u001b[0mOSError\u001b[0m\u001b[1;33m(\u001b[0m\u001b[1;34m'could not get source code'\u001b[0m\u001b[1;33m)\u001b[0m\u001b[1;33m\u001b[0m\u001b[1;33m\u001b[0m\u001b[0m\n\u001b[0m\u001b[0;32m    787\u001b[0m \u001b[1;33m\u001b[0m\u001b[0m\n\u001b[0;32m    788\u001b[0m     \u001b[1;32mif\u001b[0m \u001b[0mismodule\u001b[0m\u001b[1;33m(\u001b[0m\u001b[0mobject\u001b[0m\u001b[1;33m)\u001b[0m\u001b[1;33m:\u001b[0m\u001b[1;33m\u001b[0m\u001b[1;33m\u001b[0m\u001b[0m\n",
      "\u001b[1;31mOSError\u001b[0m: could not get source code"
     ]
    }
   ],
   "source": [
    "print(inspect.getsource(b))"
   ]
  },
  {
   "cell_type": "code",
   "execution_count": 132,
   "metadata": {},
   "outputs": [
    {
     "output_type": "error",
     "ename": "TypeError",
     "evalue": "array_add() missing 2 required positional arguments: 'b' and 'n'",
     "traceback": [
      "\u001b[1;31m---------------------------------------------------------------------------\u001b[0m",
      "\u001b[1;31mTypeError\u001b[0m                                 Traceback (most recent call last)",
      "\u001b[1;32m<ipython-input-132-f038f8fb6420>\u001b[0m in \u001b[0;36m<module>\u001b[1;34m\u001b[0m\n\u001b[1;32m----> 1\u001b[1;33m \u001b[0mb\u001b[0m\u001b[1;33m(\u001b[0m\u001b[1;36m2\u001b[0m\u001b[1;33m,\u001b[0m\u001b[1;36m3\u001b[0m\u001b[1;33m)\u001b[0m\u001b[1;33m\u001b[0m\u001b[1;33m\u001b[0m\u001b[0m\n\u001b[0m",
      "\u001b[1;31mTypeError\u001b[0m: array_add() missing 2 required positional arguments: 'b' and 'n'"
     ]
    }
   ],
   "source": [
    "b(2,3)"
   ]
  },
  {
   "cell_type": "code",
   "execution_count": 21,
   "metadata": {},
   "outputs": [],
   "source": [
    "if os.system(f'g++ -o test.so {tempname} -fPIC -shared') == 2:\n",
    "    raise SyntaxError(\"compilation failed.\")\n",
    "else:\n",
    "    os.remove(tempname)"
   ]
  },
  {
   "cell_type": "code",
   "execution_count": 22,
   "metadata": {},
   "outputs": [],
   "source": [
    "lib = ctypes.CDLL(f'./test.so')"
   ]
  },
  {
   "cell_type": "code",
   "execution_count": 23,
   "metadata": {},
   "outputs": [],
   "source": [
    "import platform"
   ]
  },
  {
   "cell_type": "code",
   "execution_count": 24,
   "metadata": {},
   "outputs": [],
   "source": [
    "cpp_header = \"\".join(header)\n",
    "\n",
    "\n",
    "c_to_py ={\n",
    "    'int'       : ctypes.c_int,\n",
    "    'float'     : ctypes.c_float,\n",
    "    'float&'     : ctypes.c_float,\n",
    "    'double'    : ctypes.c_double,\n",
    "    'float*'    : np.ctypeslib.ndpointer(dtype=np.float32),\n",
    "    'int*'      : np.ctypeslib.ndpointer(dtype=np.int32),\n",
    "    'double*'   : np.ctypeslib.ndpointer(dtype=np.float64),\n",
    "    'void'      : None\n",
    "}\n",
    "\n",
    "\n",
    "\n",
    "def cdll_types(header):\n",
    "    ans = {}\n",
    "    for line in header.splitlines():\n",
    "        if line.lstrip():\n",
    "            if len(line.split(\"(\"))<2: continue\n",
    "            func_name = line.split(\"(\")[0].split()[-2:]\n",
    "            #print(func_name)\n",
    "            restype     = (func_name[0])\n",
    "            name        = func_name[1]\n",
    "            func_args   = line.split(\"(\")[1].split(\")\")[0].split(\",\")\n",
    "            argtypes    = [(func_arg.split()[0]) for func_arg in func_args]\n",
    "\n",
    "            ans[name] = (argtypes, restype)\n",
    "    return ans\n",
    "                \n",
    "\n",
    "def c_interface(_cdll, func_name, argtypes, restype = None):\n",
    "    func = eval(f'_cdll.{func_name}')\n",
    "    func.argtypes = argtypes\n",
    "    if restype is not None:\n",
    "        func.restype = restype\n",
    "\n",
    "def interface_from_header(cdll, header, py_dict, include = None, exclude = None):\n",
    "    cdll.header = header\n",
    "    c_funcs = cdll_types(header)\n",
    "    if exclude is None:\n",
    "        exclude = []\n",
    "    for f_name in c_funcs:\n",
    "        if f_name in exclude: continue\n",
    "        if include is not None and not f_name in include: continue\n",
    "        args, res = c_funcs[f_name]\n",
    "        args = [py_dict[arg] for arg in args]\n",
    "        res  = py_dict[res]\n",
    "        c_interface(cdll, f_name, args, res)\n",
    "\n",
    "#print(c_ext)\n",
    "interface_from_header(lib, cpp_header, c_to_py)"
   ]
  },
  {
   "cell_type": "code",
   "execution_count": 26,
   "metadata": {},
   "outputs": [
    {
     "output_type": "execute_result",
     "data": {
      "text/plain": [
       "2"
      ]
     },
     "metadata": {},
     "execution_count": 26
    }
   ],
   "source": [
    "a = np.empty([2],dtype = np.int32)\n",
    "lib.array_add(a, np.array([1,2]).astype(np.int32),np.array([3,4]).astype(np.int32),2)"
   ]
  },
  {
   "cell_type": "code",
   "execution_count": 27,
   "metadata": {},
   "outputs": [
    {
     "output_type": "execute_result",
     "data": {
      "text/plain": [
       "array([4, 6], dtype=int32)"
      ]
     },
     "metadata": {},
     "execution_count": 27
    }
   ],
   "source": [
    "a"
   ]
  },
  {
   "cell_type": "code",
   "execution_count": 28,
   "metadata": {},
   "outputs": [],
   "source": []
  },
  {
   "cell_type": "code",
   "execution_count": null,
   "metadata": {},
   "outputs": [],
   "source": []
  }
 ]
}