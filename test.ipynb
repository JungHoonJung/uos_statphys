{
 "metadata": {
  "language_info": {
   "codemirror_mode": {
    "name": "ipython",
    "version": 3
   },
   "file_extension": ".py",
   "mimetype": "text/x-python",
   "name": "python",
   "nbconvert_exporter": "python",
   "pygments_lexer": "ipython3",
   "version": "3.7.3-final"
  },
  "orig_nbformat": 2,
  "kernelspec": {
   "name": "python3",
   "display_name": "Python 3",
   "language": "python"
  }
 },
 "nbformat": 4,
 "nbformat_minor": 2,
 "cells": [
  {
   "cell_type": "code",
   "execution_count": 3,
   "metadata": {},
   "outputs": [],
   "source": [
    "import uos_statphys"
   ]
  },
  {
   "cell_type": "code",
   "execution_count": 21,
   "metadata": {},
   "outputs": [],
   "source": [
    "\n",
    "def compile_option_parser(filename, encoding = \"utf8\"):\n",
    "    \"\"\"from source_code, reading out the compilation options and compiler.\"\"\"\n",
    "    compiler, flags = None, []\n",
    "    output = False\n",
    "    read = False\n",
    "    with open(filename,'r', encoding=encoding) as f:\n",
    "        for line in f:\n",
    "            if line[:3] == \"//$\":\n",
    "                if not read:\n",
    "                    read = True\n",
    "                    print(line)\n",
    "                else:\n",
    "                    print(\"Compilation parsing failed. //$ line will be ignored.\")\n",
    "                    return None, []\n",
    "                cline = line[3:].rstrip().split()\n",
    "                print(cline)\n",
    "                for i, term in enumerate(cline):\n",
    "                    if i == 0:\n",
    "                        compiler = term\n",
    "                        continue\n",
    "                    elif output:\n",
    "                        output = False\n",
    "                        continue\n",
    "                    elif term == \"-o\":\n",
    "                        output = True\n",
    "                        continue\n",
    "                    elif filename in term:\n",
    "                        print(term)\n",
    "                        continue\n",
    "                    else:\n",
    "                        flags.append(term)\n",
    "    return compiler, flags"
   ]
  },
  {
   "cell_type": "code",
   "execution_count": 1,
   "metadata": {},
   "outputs": [
    {
     "output_type": "error",
     "ename": "NameError",
     "evalue": "name 'compile_option_parser' is not defined",
     "traceback": [
      "\u001b[0;31m---------------------------------------------------------------------------\u001b[0m",
      "\u001b[0;31mNameError\u001b[0m                                 Traceback (most recent call last)",
      "\u001b[0;32m<ipython-input-1-48f53a4eb29f>\u001b[0m in \u001b[0;36m<module>\u001b[0;34m\u001b[0m\n\u001b[0;32m----> 1\u001b[0;31m \u001b[0mcompile_option_parser\u001b[0m\u001b[0;34m(\u001b[0m\u001b[0;34m\"testcode.cpp\"\u001b[0m\u001b[0;34m)\u001b[0m\u001b[0;34m\u001b[0m\u001b[0;34m\u001b[0m\u001b[0m\n\u001b[0m",
      "\u001b[0;31mNameError\u001b[0m: name 'compile_option_parser' is not defined"
     ]
    }
   ],
   "source": [
    "compile_option_parser(\"testcode.cpp\")"
   ]
  },
  {
   "cell_type": "code",
   "execution_count": 4,
   "metadata": {},
   "outputs": [
    {
     "output_type": "stream",
     "name": "stdout",
     "text": [
      "//$g++ -std=c++14 -o test.out testcode.cpp -Wall\n",
      "\n",
      "Compile : g++ -o libtestcode.dylib __temp__testcode.cpp -std=c++14 -Wall -shared -fPIC -dynamic\n"
     ]
    },
    {
     "output_type": "execute_result",
     "data": {
      "text/plain": [
       "<uos_statphys.C_ext.C_functions at 0x115784208>"
      ]
     },
     "metadata": {},
     "execution_count": 4
    }
   ],
   "source": [
    "uos_statphys.C_ext.from_C_source(\"testcode.cpp\")"
   ]
  },
  {
   "cell_type": "code",
   "execution_count": 3,
   "metadata": {},
   "outputs": [],
   "source": [
    "a = uos_statphys.IsingModel()\n",
    "a.add_set(10,2,10,100)"
   ]
  },
  {
   "cell_type": "code",
   "execution_count": 6,
   "metadata": {},
   "outputs": [
    {
     "output_type": "stream",
     "name": "stderr",
     "text": [
      "100%|██████████| 1/1 [00:00<00:00, 125.83it/s]\n"
     ]
    }
   ],
   "source": [
    "a.simulate(10)"
   ]
  },
  {
   "cell_type": "code",
   "execution_count": 8,
   "metadata": {},
   "outputs": [
    {
     "output_type": "execute_result",
     "data": {
      "text/plain": [
       "<uos_statphys.isingModel.IsingMultiAnalyzer at 0x7f1186a58f40>"
      ]
     },
     "metadata": {},
     "execution_count": 8
    }
   ],
   "source": [
    "a.get_analyzer()"
   ]
  },
  {
   "cell_type": "code",
   "execution_count": 2,
   "metadata": {},
   "outputs": [
    {
     "output_type": "execute_result",
     "data": {
      "text/plain": [
       "<CDLL '/mnt/c/Users/Jeong/master/uos_statphys/uos_statphys/lib/isingmonte.so', handle 55dbdbeb3050 at 0x7f34a8c85be0>"
      ]
     },
     "metadata": {},
     "execution_count": 2
    }
   ],
   "source": [
    "C_ext.internal_Library('isingmonte')"
   ]
  },
  {
   "cell_type": "code",
   "execution_count": 5,
   "metadata": {},
   "outputs": [
    {
     "output_type": "stream",
     "name": "stdout",
     "text": [
      "C functions found from source : \n\tset_seed\n\tnearest_neighbor\n\tMCstep\n\tsingle_monteCarlo\n\tthread_monteCarlo\n\tmonteCarlo\n\tMCwolff\n\tsingle_wolff\n\tthread_wolff\n\twolff\nCompile : g++ -o __libisingmonte.so __temp__isingmonte.cpp -shared -fPIC -I /mnt/c/Users/Jeong/master/uos_statphys/uos_statphys/lib/src\n"
     ]
    }
   ],
   "source": [
    "a = C_ext.from_C_source('uos_statphys/lib/src/isingmonte.cpp', r'-I /mnt/c/Users/Jeong/master/uos_statphys/uos_statphys/lib/src',debug=True) "
   ]
  },
  {
   "cell_type": "code",
   "execution_count": 6,
   "metadata": {},
   "outputs": [],
   "source": [
    "import numpy as np"
   ]
  },
  {
   "cell_type": "code",
   "execution_count": 3,
   "metadata": {},
   "outputs": [],
   "source": [
    "import os"
   ]
  },
  {
   "cell_type": "code",
   "execution_count": 6,
   "metadata": {},
   "outputs": [],
   "source": [
    "import ctypes"
   ]
  },
  {
   "cell_type": "code",
   "execution_count": null,
   "metadata": {},
   "outputs": [],
   "source": [
    "ctypes.windll.kernel32."
   ]
  },
  {
   "cell_type": "code",
   "execution_count": 10,
   "metadata": {},
   "outputs": [
    {
     "output_type": "error",
     "ename": "OSError",
     "evalue": "[WinError 126] 지정된 모듈을 찾을 수 없습니다",
     "traceback": [
      "\u001b[1;31m---------------------------------------------------------------------------\u001b[0m",
      "\u001b[1;31mOSError\u001b[0m                                   Traceback (most recent call last)",
      "\u001b[1;32m<ipython-input-10-0f388c9fa8b4>\u001b[0m in \u001b[0;36m<module>\u001b[1;34m\u001b[0m\n\u001b[1;32m----> 1\u001b[1;33m \u001b[0mctypes\u001b[0m\u001b[1;33m.\u001b[0m\u001b[0mCDLL\u001b[0m\u001b[1;33m(\u001b[0m\u001b[1;34m\"libdl.dll\"\u001b[0m\u001b[1;33m)\u001b[0m\u001b[1;33m\u001b[0m\u001b[1;33m\u001b[0m\u001b[0m\n\u001b[0m",
      "\u001b[1;32m~\\Anaconda3\\lib\\ctypes\\__init__.py\u001b[0m in \u001b[0;36m__init__\u001b[1;34m(self, name, mode, handle, use_errno, use_last_error)\u001b[0m\n\u001b[0;32m    362\u001b[0m \u001b[1;33m\u001b[0m\u001b[0m\n\u001b[0;32m    363\u001b[0m         \u001b[1;32mif\u001b[0m \u001b[0mhandle\u001b[0m \u001b[1;32mis\u001b[0m \u001b[1;32mNone\u001b[0m\u001b[1;33m:\u001b[0m\u001b[1;33m\u001b[0m\u001b[1;33m\u001b[0m\u001b[0m\n\u001b[1;32m--> 364\u001b[1;33m             \u001b[0mself\u001b[0m\u001b[1;33m.\u001b[0m\u001b[0m_handle\u001b[0m \u001b[1;33m=\u001b[0m \u001b[0m_dlopen\u001b[0m\u001b[1;33m(\u001b[0m\u001b[0mself\u001b[0m\u001b[1;33m.\u001b[0m\u001b[0m_name\u001b[0m\u001b[1;33m,\u001b[0m \u001b[0mmode\u001b[0m\u001b[1;33m)\u001b[0m\u001b[1;33m\u001b[0m\u001b[1;33m\u001b[0m\u001b[0m\n\u001b[0m\u001b[0;32m    365\u001b[0m         \u001b[1;32melse\u001b[0m\u001b[1;33m:\u001b[0m\u001b[1;33m\u001b[0m\u001b[1;33m\u001b[0m\u001b[0m\n\u001b[0;32m    366\u001b[0m             \u001b[0mself\u001b[0m\u001b[1;33m.\u001b[0m\u001b[0m_handle\u001b[0m \u001b[1;33m=\u001b[0m \u001b[0mhandle\u001b[0m\u001b[1;33m\u001b[0m\u001b[1;33m\u001b[0m\u001b[0m\n",
      "\u001b[1;31mOSError\u001b[0m: [WinError 126] 지정된 모듈을 찾을 수 없습니다"
     ]
    }
   ],
   "source": [
    "ctypes.CDLL(\"libdl.dll\")"
   ]
  },
  {
   "cell_type": "code",
   "execution_count": 6,
   "metadata": {},
   "outputs": [],
   "source": [
    "import subprocess"
   ]
  },
  {
   "cell_type": "code",
   "execution_count": 18,
   "metadata": {},
   "outputs": [
    {
     "output_type": "stream",
     "name": "stdout",
     "text": [
      "CompletedProcess(args=['g++', '-o', '__libisingmonte.so', '__temp__isingmonte.cpp', '-shared', '-fPIC', '-I', '/mnt/c/Users/Jeong/master/uos_statphys/uos_statphys/lib/src'], returncode=0, stdout=b'', stderr=b'In file included from /mnt/c/Users/Jeong/master/uos_statphys/uos_statphys/lib/src/dSFMT-params.h:4,\\n                 from /mnt/c/Users/Jeong/master/uos_statphys/uos_statphys/lib/src/dSFMT.c:18,\\n                 from __temp__isingmonte.cpp:1:\\n/mnt/c/Users/Jeong/master/uos_statphys/uos_statphys/lib/src/dSFMT.h:46:4: warning: #warning \"DSFMT_MEXP is not defined. I assume DSFMT_MEXP is 19937.\" [-Wcpp]\\n   46 |   #warning \"DSFMT_MEXP is not defined. I assume DSFMT_MEXP is 19937.\"\\n      |    ^~~~~~~\\n')\n"
     ]
    }
   ],
   "source": [
    "print(subprocess.run(r\"g++ -o __libisingmonte.so __temp__isingmonte.cpp -shared -fPIC -I /mnt/c/Users/Jeong/master/uos_statphys/uos_statphys/lib/src\".split(), capture_output=True))"
   ]
  },
  {
   "cell_type": "code",
   "execution_count": 10,
   "metadata": {},
   "outputs": [],
   "source": [
    "import sys, os"
   ]
  },
  {
   "cell_type": "code",
   "execution_count": 20,
   "metadata": {},
   "outputs": [],
   "source": [
    "os.environ['C_INCLUDE_PATH'] = r\"C:\\Users\\Jeong\\master\\uos_statphys\\uos_statphys\\src\""
   ]
  },
  {
   "cell_type": "code",
   "execution_count": null,
   "metadata": {},
   "outputs": [],
   "source": []
  },
  {
   "cell_type": "code",
   "execution_count": 3,
   "metadata": {},
   "outputs": [
    {
     "output_type": "execute_result",
     "data": {
      "text/plain": [
       "['c:\\\\Users\\\\Jeong\\\\master\\\\uos_statphys',\n",
       " 'c:\\\\Users\\\\Jeong\\\\.vscode\\\\extensions\\\\ms-toolsai.jupyter-2020.12.414227025\\\\pythonFiles\\\\vscode_datascience_helpers\\\\..\\\\.does-not-exist',\n",
       " 'c:\\\\Users\\\\Jeong\\\\.vscode\\\\extensions\\\\ms-toolsai.jupyter-2020.12.414227025\\\\pythonFiles',\n",
       " 'c:\\\\Users\\\\Jeong\\\\.vscode\\\\extensions\\\\ms-toolsai.jupyter-2020.12.414227025\\\\pythonFiles\\\\lib\\\\python',\n",
       " 'C:\\\\Users\\\\Jeong\\\\Anaconda3\\\\python37.zip',\n",
       " 'C:\\\\Users\\\\Jeong\\\\Anaconda3\\\\DLLs',\n",
       " 'C:\\\\Users\\\\Jeong\\\\Anaconda3\\\\lib',\n",
       " 'C:\\\\Users\\\\Jeong\\\\Anaconda3',\n",
       " '',\n",
       " 'C:\\\\Users\\\\Jeong\\\\Anaconda3\\\\lib\\\\site-packages',\n",
       " 'C:\\\\Users\\\\Jeong\\\\Anaconda3\\\\lib\\\\site-packages\\\\win32',\n",
       " 'C:\\\\Users\\\\Jeong\\\\Anaconda3\\\\lib\\\\site-packages\\\\win32\\\\lib',\n",
       " 'C:\\\\Users\\\\Jeong\\\\Anaconda3\\\\lib\\\\site-packages\\\\Pythonwin',\n",
       " 'C:\\\\Users\\\\Jeong\\\\Anaconda3\\\\lib\\\\site-packages\\\\IPython\\\\extensions',\n",
       " 'C:\\\\Users\\\\Jeong\\\\.ipython',\n",
       " 'c:\\\\Users\\\\Jeong\\\\master\\\\uos_statphys\\\\src\\\\origin']"
      ]
     },
     "metadata": {},
     "execution_count": 3
    }
   ],
   "source": [
    "sys.path"
   ]
  },
  {
   "cell_type": "code",
   "execution_count": 2,
   "metadata": {},
   "outputs": [
    {
     "output_type": "stream",
     "name": "stdout",
     "text": [
      "C functions found from source : \n\tset_seed\n\tnearest_neighbor\n\tMCstep\n\tsingle_monteCarlo\n\tthread_monteCarlo\n\tmonteCarlo\n\tMCwolff\n\tsingle_wolff\n\tthread_wolff\n\twolff\nCompile : clang -o __libisingmonte.dll __temp__isingmonte.cpp -shared -O2 -Wall -Lmkl\n"
     ]
    }
   ],
   "source": [
    "cdll = C_ext.from_C_source(\"uos_statphys/src/origin/isingmonte.cpp\", '-O2', '-Wall', '-Lmkl', debug=True)"
   ]
  },
  {
   "cell_type": "code",
   "execution_count": 3,
   "metadata": {},
   "outputs": [],
   "source": [
    "import ctypes"
   ]
  },
  {
   "cell_type": "code",
   "execution_count": 4,
   "metadata": {},
   "outputs": [],
   "source": [
    "a = 1 \n",
    "b = ctypes.c_int(a)"
   ]
  },
  {
   "cell_type": "code",
   "execution_count": 7,
   "metadata": {},
   "outputs": [],
   "source": [
    "import numpy as np"
   ]
  },
  {
   "cell_type": "code",
   "execution_count": 8,
   "metadata": {},
   "outputs": [],
   "source": [
    "a = np.empty([2])"
   ]
  },
  {
   "cell_type": "code",
   "execution_count": 9,
   "metadata": {},
   "outputs": [
    {
     "output_type": "error",
     "ename": "TypeError",
     "evalue": "byref() argument must be a ctypes instance, not 'numpy.ndarray'",
     "traceback": [
      "\u001b[1;31m---------------------------------------------------------------------------\u001b[0m",
      "\u001b[1;31mTypeError\u001b[0m                                 Traceback (most recent call last)",
      "\u001b[1;32m<ipython-input-9-19e544ed9261>\u001b[0m in \u001b[0;36m<module>\u001b[1;34m\u001b[0m\n\u001b[1;32m----> 1\u001b[1;33m \u001b[0mctypes\u001b[0m\u001b[1;33m.\u001b[0m\u001b[0mbyref\u001b[0m\u001b[1;33m(\u001b[0m\u001b[0ma\u001b[0m\u001b[1;33m)\u001b[0m\u001b[1;33m\u001b[0m\u001b[1;33m\u001b[0m\u001b[0m\n\u001b[0m",
      "\u001b[1;31mTypeError\u001b[0m: byref() argument must be a ctypes instance, not 'numpy.ndarray'"
     ]
    }
   ],
   "source": [
    "ctypes.byref(a)"
   ]
  },
  {
   "cell_type": "code",
   "execution_count": null,
   "metadata": {},
   "outputs": [],
   "source": []
  },
  {
   "cell_type": "code",
   "execution_count": 2,
   "metadata": {},
   "outputs": [
    {
     "output_type": "stream",
     "name": "stdout",
     "text": [
      "C functions found from source : \n\tadd\n\tarray_add\n\tdot_product\n\tfibonacci_array\nCompile : clang -o __libtest.dll __temp__test.cpp -shared -O2 -Wall -Lmkl\n"
     ]
    }
   ],
   "source": [
    "cdll = C_ext.from_C_source(\"scons/test.cpp\", '-O2', '-Wall', '-Lmkl', debug=True)"
   ]
  },
  {
   "cell_type": "code",
   "execution_count": 3,
   "metadata": {},
   "outputs": [
    {
     "output_type": "stream",
     "name": "stderr",
     "text": [
      "Exception ignored in: <function C_functions.__del__ at 0x000002769F21D798>\nTraceback (most recent call last):\n  File \"c:\\Users\\Jeong\\master\\uos_statphys\\uos_statphys\\C_ext\\__init__.py\", line 60, in __del__\n    os.remove(self._path)\nPermissionError: [WinError 5] 액세스가 거부되었습니다: './__libtest.dll'\n"
     ]
    }
   ],
   "source": [
    "del cdll"
   ]
  },
  {
   "cell_type": "code",
   "execution_count": 4,
   "metadata": {},
   "outputs": [],
   "source": [
    "import numpy as np"
   ]
  },
  {
   "cell_type": "code",
   "execution_count": 5,
   "metadata": {},
   "outputs": [],
   "source": [
    "size = 10\n",
    "a = np.zeros([size], dtype = np.int32)\n",
    "cdll.fibonacci_array(a, size)"
   ]
  },
  {
   "cell_type": "code",
   "execution_count": 3,
   "metadata": {},
   "outputs": [
    {
     "output_type": "error",
     "ename": "NameError",
     "evalue": "name 'cdll' is not defined",
     "traceback": [
      "\u001b[1;31m---------------------------------------------------------------------------\u001b[0m",
      "\u001b[1;31mNameError\u001b[0m                                 Traceback (most recent call last)",
      "\u001b[1;32m<ipython-input-3-90b581018341>\u001b[0m in \u001b[0;36m<module>\u001b[1;34m\u001b[0m\n\u001b[1;32m----> 1\u001b[1;33m \u001b[0mcdll\u001b[0m\u001b[1;33m.\u001b[0m\u001b[0mclose\u001b[0m\u001b[1;33m(\u001b[0m\u001b[1;33m)\u001b[0m\u001b[1;33m\u001b[0m\u001b[1;33m\u001b[0m\u001b[0m\n\u001b[0m",
      "\u001b[1;31mNameError\u001b[0m: name 'cdll' is not defined"
     ]
    }
   ],
   "source": [
    "cdll.close()"
   ]
  },
  {
   "cell_type": "code",
   "execution_count": 3,
   "metadata": {},
   "outputs": [],
   "source": [
    "a, b = None, None"
   ]
  },
  {
   "cell_type": "code",
   "execution_count": null,
   "metadata": {},
   "outputs": [],
   "source": []
  },
  {
   "cell_type": "code",
   "execution_count": 10,
   "metadata": {},
   "outputs": [],
   "source": [
    "from talert import talert"
   ]
  },
  {
   "cell_type": "code",
   "execution_count": 11,
   "metadata": {},
   "outputs": [
    {
     "output_type": "stream",
     "name": "stdout",
     "text": [
      "done\n"
     ]
    }
   ],
   "source": [
    "with talert(\"test\"):\n",
    "    print(\"done\")"
   ]
  },
  {
   "cell_type": "code",
   "execution_count": 36,
   "metadata": {},
   "outputs": [],
   "source": [
    "cdefs = \"\"\"\n",
    "int test(\n",
    "    int a,\n",
    "    int b,\n",
    "    int c,\n",
    "    int* testest\n",
    "){\n",
    "    return 0;\n",
    "}\n",
    "\"\"\""
   ]
  },
  {
   "cell_type": "code",
   "execution_count": 37,
   "metadata": {},
   "outputs": [],
   "source": [
    "llllll = cdefs.split(\"\\n\")"
   ]
  },
  {
   "cell_type": "code",
   "execution_count": 38,
   "metadata": {},
   "outputs": [],
   "source": [
    "i = 1\n",
    "line = llllll[i]\n",
    "funcdef = \"\"\n",
    "if \"(\" in line:\n",
    "    while not \")\" in line:\n",
    "        funcdef+= line#[:-1]\n",
    "        i+=1\n",
    "        line = llllll[i]\n",
    "    funcdef+= line#[:-1]"
   ]
  },
  {
   "cell_type": "code",
   "execution_count": 39,
   "metadata": {},
   "outputs": [
    {
     "output_type": "execute_result",
     "data": {
      "text/plain": [
       "'int test(    int a,    int b,    int c,    int* testest){'"
      ]
     },
     "metadata": {},
     "execution_count": 39
    }
   ],
   "source": [
    "funcdef"
   ]
  },
  {
   "cell_type": "code",
   "execution_count": 19,
   "metadata": {},
   "outputs": [],
   "source": [
    "def fibonacci(result, n):\n",
    "    for i in range(n):\n",
    "        if i>1: \n",
    "            result[i] = result[i-1]+ result[i-2]\n",
    "        else:\n",
    "            result[i] = 1"
   ]
  },
  {
   "cell_type": "code",
   "execution_count": 7,
   "metadata": {},
   "outputs": [],
   "source": [
    "import time"
   ]
  },
  {
   "cell_type": "code",
   "execution_count": 18,
   "metadata": {},
   "outputs": [],
   "source": [
    "import ctypes"
   ]
  },
  {
   "cell_type": "code",
   "execution_count": 21,
   "metadata": {},
   "outputs": [],
   "source": [
    "cdll_ = ctypes.CDLL('__libC.dll')"
   ]
  },
  {
   "cell_type": "code",
   "execution_count": 25,
   "metadata": {},
   "outputs": [
    {
     "output_type": "error",
     "ename": "ArgumentError",
     "evalue": "argument 1: <class 'TypeError'>: Don't know how to convert parameter 1",
     "traceback": [
      "\u001b[1;31m---------------------------------------------------------------------------\u001b[0m",
      "\u001b[1;31mArgumentError\u001b[0m                             Traceback (most recent call last)",
      "\u001b[1;32m<ipython-input-25-417338836ead>\u001b[0m in \u001b[0;36m<module>\u001b[1;34m\u001b[0m\n\u001b[1;32m----> 1\u001b[1;33m \u001b[0mcdll_\u001b[0m\u001b[1;33m.\u001b[0m\u001b[0mfibonacci_array\u001b[0m\u001b[1;33m(\u001b[0m\u001b[0ma\u001b[0m\u001b[1;33m,\u001b[0m\u001b[0msize\u001b[0m\u001b[1;33m)\u001b[0m\u001b[1;33m\u001b[0m\u001b[1;33m\u001b[0m\u001b[0m\n\u001b[0m",
      "\u001b[1;31mArgumentError\u001b[0m: argument 1: <class 'TypeError'>: Don't know how to convert parameter 1"
     ]
    }
   ],
   "source": [
    "cdll_.fibonacci_array(a,size)"
   ]
  },
  {
   "cell_type": "code",
   "execution_count": 27,
   "metadata": {},
   "outputs": [],
   "source": [
    "cdll_.fibonacci_array.argtypes = [np.ctypeslib.ndpointer(dtype = np.int32), ctypes.c_int]"
   ]
  },
  {
   "cell_type": "code",
   "execution_count": 28,
   "metadata": {},
   "outputs": [],
   "source": [
    "cdll_.fibonacci_array.restype = None"
   ]
  },
  {
   "cell_type": "code",
   "execution_count": 30,
   "metadata": {},
   "outputs": [],
   "source": [
    "cdll_.fibonacci_array(a, size)"
   ]
  },
  {
   "cell_type": "code",
   "execution_count": 31,
   "metadata": {},
   "outputs": [
    {
     "output_type": "execute_result",
     "data": {
      "text/plain": [
       "array([ 1,  1,  2,  3,  5,  8, 13, 21, 34, 55])"
      ]
     },
     "metadata": {},
     "execution_count": 31
    }
   ],
   "source": [
    "a"
   ]
  },
  {
   "cell_type": "code",
   "execution_count": null,
   "metadata": {},
   "outputs": [],
   "source": []
  },
  {
   "cell_type": "code",
   "execution_count": 24,
   "metadata": {},
   "outputs": [
    {
     "output_type": "execute_result",
     "data": {
      "text/plain": [
       "<function uos_statphys.C_ext.functions.<locals>.fibonacci_array(result: numpy.ndarray, n: int) -> None>"
      ]
     },
     "metadata": {},
     "execution_count": 24
    }
   ],
   "source": [
    "cdll.fibonacci_array"
   ]
  },
  {
   "cell_type": "code",
   "execution_count": 8,
   "metadata": {},
   "outputs": [
    {
     "output_type": "stream",
     "name": "stdout",
     "text": [
      "908 µs ± 20.2 µs per loop (mean ± std. dev. of 7 runs, 1000 loops each)\n"
     ]
    }
   ],
   "source": [
    "%%timeit \n",
    "size = 1000\n",
    "a= np.empty([size],dtype = np.int32)\n",
    "fibonacci(a,size)"
   ]
  },
  {
   "cell_type": "code",
   "execution_count": 9,
   "metadata": {},
   "outputs": [
    {
     "output_type": "stream",
     "name": "stdout",
     "text": [
      "16 µs ± 351 ns per loop (mean ± std. dev. of 7 runs, 100000 loops each)\n"
     ]
    }
   ],
   "source": [
    "%%timeit \n",
    "size = 1000\n",
    "a= np.empty([size],dtype = np.int32)\n",
    "cdll.fibonacci_array(a,size)"
   ]
  },
  {
   "cell_type": "code",
   "execution_count": 6,
   "metadata": {},
   "outputs": [
    {
     "output_type": "execute_result",
     "data": {
      "text/plain": [
       "array([7.88212664e-312, 1.77863633e-322, 0.00000000e+000, 0.00000000e+000,\n",
       "       0.00000000e+000, 4.50528535e+174, 2.10654095e-052, 6.25549781e-091,\n",
       "       3.59957939e+175, 4.59174195e-315])"
      ]
     },
     "metadata": {},
     "execution_count": 6
    }
   ],
   "source": [
    "np.empty([size])"
   ]
  },
  {
   "cell_type": "code",
   "execution_count": 4,
   "metadata": {},
   "outputs": [
    {
     "output_type": "stream",
     "name": "stdout",
     "text": [
      "#include <stdio.h>\n#include <iostream>\n\n//@extern_python\n\nusing namespace std;\n\n\n//@python_def\nint add(int a, int b){\n    return a + b;\n}\n\n//@python_def\n//! Short summery\n//! \nvoid array_add(int* c, int* a, int* b, int n){\n    for (size_t i = 0; i < n; i++)\n    {\n        c[i] = a[i] +b[i] + 1;\n    }\n}\n\n//@python_def\nint dot_product(int* a, int* b, int n){\n    int sum = 0;\n    for (size_t i = 0; i < n; i++)\n    {\n        sum = sum +  a[i] * b[i];\n    }\n    return sum;\n}\n"
     ]
    }
   ],
   "source": [
    "print(cdll.source)"
   ]
  },
  {
   "source": [
    "장점 :  \n",
    "> - c 내부 한스텝 한스텝 디버깅을 python을 이용해서 할수 있다.  \n",
    "> - c 코드의 중간 결과를 확인 할수 있다.  \n",
    "\n",
    "단점 :\n",
    "> - 파이선과 혼용해서 iteration 하는 경우 속도저하가 발생한다.  \n"
   ],
   "cell_type": "markdown",
   "metadata": {}
  },
  {
   "source": [],
   "cell_type": "markdown",
   "metadata": {}
  },
  {
   "cell_type": "code",
   "execution_count": 8,
   "metadata": {},
   "outputs": [
    {
     "output_type": "execute_result",
     "data": {
      "text/plain": [
       "6"
      ]
     },
     "metadata": {},
     "execution_count": 8
    }
   ],
   "source": [
    "cdll.dot_product()"
   ]
  },
  {
   "cell_type": "code",
   "execution_count": 10,
   "metadata": {},
   "outputs": [],
   "source": [
    "aa = np.empty([12])\n",
    "cdll.array_add(aa.astype(np.int32), np.arange(12),np.arange(12),12)"
   ]
  },
  {
   "cell_type": "code",
   "execution_count": 11,
   "metadata": {},
   "outputs": [
    {
     "output_type": "execute_result",
     "data": {
      "text/plain": [
       "array([0., 0., 0., 0., 0., 0., 0., 0., 0., 0., 0., 0.])"
      ]
     },
     "metadata": {},
     "execution_count": 11
    }
   ],
   "source": [
    "aa"
   ]
  },
  {
   "cell_type": "code",
   "execution_count": null,
   "metadata": {},
   "outputs": [],
   "source": []
  },
  {
   "cell_type": "code",
   "execution_count": null,
   "metadata": {},
   "outputs": [],
   "source": []
  }
 ]
}